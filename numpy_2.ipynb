{
 "cells": [
  {
   "cell_type": "code",
   "execution_count": 1,
   "id": "c4971858-7737-4674-910d-86421c30df07",
   "metadata": {},
   "outputs": [],
   "source": [
    "import numpy as np\n",
    "from IPython.display import display"
   ]
  },
  {
   "cell_type": "code",
   "execution_count": 4,
   "id": "4a53e6fa-cc31-4a42-9400-50ba345e7068",
   "metadata": {},
   "outputs": [
    {
     "name": "stdout",
     "output_type": "stream",
     "text": [
      "[ 1  2  3  4  5  6  7  8  9 10 11 12 13 14 15 16]\n"
     ]
    },
    {
     "data": {
      "text/plain": [
       "array([[ 1,  2,  3,  4],\n",
       "       [ 5,  6,  7,  8],\n",
       "       [ 9, 10, 11, 12],\n",
       "       [13, 14, 15, 16]])"
      ]
     },
     "execution_count": 4,
     "metadata": {},
     "output_type": "execute_result"
    }
   ],
   "source": [
    "#1\n",
    "num_a= np.arange(1, 16+1)\n",
    "print(num_a)\n",
    "num_a.reshape(4, 4)"
   ]
  },
  {
   "cell_type": "code",
   "execution_count": 8,
   "id": "9d823065-63e4-4861-9cc4-95690f194814",
   "metadata": {},
   "outputs": [
    {
     "name": "stdout",
     "output_type": "stream",
     "text": [
      "[10 15 20 25 30 35 40 45]\n"
     ]
    },
    {
     "data": {
      "text/plain": [
       "array([[10, 15, 20, 25],\n",
       "       [30, 35, 40, 45]])"
      ]
     },
     "execution_count": 8,
     "metadata": {},
     "output_type": "execute_result"
    }
   ],
   "source": [
    "#2\n",
    "num_b= np.arange(10, 50 , 5)\n",
    "print(num_b)\n",
    "num_b.reshape(2 , 4)"
   ]
  },
  {
   "cell_type": "code",
   "execution_count": 11,
   "id": "cafd23e0-044a-45f3-a058-5e40b51c8e92",
   "metadata": {},
   "outputs": [
    {
     "name": "stdout",
     "output_type": "stream",
     "text": [
      "[[24  3 56]\n",
      " [72  0 21]\n",
      " [19 74 41]]\n",
      "max 74\n",
      "min 0\n"
     ]
    }
   ],
   "source": [
    "#3\n",
    "np.random.seed(3)\n",
    "rand_array = np.random.randint(0, 101, (3, 3))\n",
    "print(rand_array)\n",
    "print('max', rand_array.max()) \n",
    "print('min', rand_array.min()) "
   ]
  },
  {
   "cell_type": "code",
   "execution_count": 16,
   "id": "93ceef3a-f50f-46f7-a806-215b35a55a26",
   "metadata": {},
   "outputs": [
    {
     "name": "stdout",
     "output_type": "stream",
     "text": [
      "arr_d[:5] [10 11 12 13 14]\n",
      "arr_d[:5] [10 12 14 16 18 20]\n",
      "arr_d[:5] [20 19 18 17 16 15 14 13 12 11 10]\n"
     ]
    }
   ],
   "source": [
    "#4\n",
    "arr_d = np.arange(10,20+1)\n",
    "print('arr_d[:5]',arr_d[:5])\n",
    "print('arr_d[:5]',arr_d[::2])\n",
    "print('arr_d[:5]',arr_d[::-1])"
   ]
  },
  {
   "cell_type": "code",
   "execution_count": 22,
   "id": "dfee0781-9a7a-4430-be82-c8b301b8c041",
   "metadata": {},
   "outputs": [
    {
     "name": "stdout",
     "output_type": "stream",
     "text": [
      "[[17 35 40  2 36]\n",
      " [46  2 19  3 24]\n",
      " [36 21 18 23 29]\n",
      " [44  8 34 44 33]]\n",
      "second row [46  2 19  3 24]\n",
      "last row [44  8 34 44 33]\n"
     ]
    }
   ],
   "source": [
    "#5\n",
    "arr = np.random.randint(1, 50+1, (4, 5))\n",
    "print(arr)\n",
    "print('second row',arr[1])\n",
    "print('last row',arr[-1])"
   ]
  },
  {
   "cell_type": "code",
   "execution_count": 34,
   "id": "6a81a7f9-a698-4cb8-af94-221312738bef",
   "metadata": {},
   "outputs": [
    {
     "name": "stdout",
     "output_type": "stream",
     "text": [
      "2\n",
      "8\n"
     ]
    }
   ],
   "source": [
    "#6\n",
    "np.random.seed(6)\n",
    "arr = np.random.randint(0, 101, 15)\n",
    "max_ind = np.argmax(arr)\n",
    "min_ind = np.argmin(arr)\n",
    "print(max_ind)\n",
    "print(min_ind)"
   ]
  },
  {
   "cell_type": "code",
   "execution_count": 39,
   "id": "58d42db2-a5d7-484f-a44f-37c681c14a1f",
   "metadata": {},
   "outputs": [
    {
     "name": "stdout",
     "output_type": "stream",
     "text": [
      "[10 80 25 75]\n",
      "[73 99 84 79 80 62  1 75 77 57 68]\n"
     ]
    }
   ],
   "source": [
    "np.savetxt('array.txt', arr, fmt='%d')\n",
    "#- מתוך המערך של ה- 15 איברים , צור מערך המכיל רק את האיברים המתחלקים ב - 5\n",
    "arr_5 = arr[arr % 5 == 0]\n",
    "print(arr_5)\n",
    "#- צור והדפס מערך המכיל את כל המספרים הגדולים מ- 50 או קטנים מ- 10 )מתוך ה - 15(\n",
    "arr_10_50 = arr[(arr > 50) | (arr < 10)]\n",
    "print(arr_10_50)"
   ]
  }
 ],
 "metadata": {
  "kernelspec": {
   "display_name": "Python 3 (ipykernel)",
   "language": "python",
   "name": "python3"
  },
  "language_info": {
   "codemirror_mode": {
    "name": "ipython",
    "version": 3
   },
   "file_extension": ".py",
   "mimetype": "text/x-python",
   "name": "python",
   "nbconvert_exporter": "python",
   "pygments_lexer": "ipython3",
   "version": "3.12.7"
  }
 },
 "nbformat": 4,
 "nbformat_minor": 5
}
